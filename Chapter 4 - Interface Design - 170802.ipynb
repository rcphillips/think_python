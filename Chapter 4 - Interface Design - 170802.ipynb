{
 "cells": [
  {
   "cell_type": "code",
   "execution_count": 1,
   "metadata": {
    "collapsed": true
   },
   "outputs": [],
   "source": [
    "import tkinter\n",
    "import sys\n",
    "sys.path.append('/Users/rcphillips/Documents/swampy-2.1.5/')\n",
    "from TurtleWorld import *\n",
    "import math"
   ]
  },
  {
   "cell_type": "code",
   "execution_count": 2,
   "metadata": {},
   "outputs": [
    {
     "name": "stdout",
     "output_type": "stream",
     "text": [
      "<TurtleWorld.Turtle object at 0x103221550>\n"
     ]
    }
   ],
   "source": [
    "world = TurtleWorld()\n",
    "ripley = Turtle() #define instance of Turtle() named Ripley ^^\n",
    "fd(ripley,100) #move forward 100\n",
    "lt(ripley) #turn left\n",
    "fd(ripley,100) #move forward 100\n",
    "lt(ripley) #turn left\n",
    "fd(ripley,100) #move forward 100\n",
    "print(ripley) #display\n",
    "wait_for_user()"
   ]
  },
  {
   "cell_type": "code",
   "execution_count": 3,
   "metadata": {},
   "outputs": [
    {
     "name": "stdout",
     "output_type": "stream",
     "text": [
      "<TurtleWorld.Turtle object at 0x103221400>\n"
     ]
    }
   ],
   "source": [
    "world = TurtleWorld()\n",
    "ripley = Turtle() #define instance of Turtle() named Ripley ^^\n",
    "for i in range(4):\n",
    "    fd(ripley, 100) #move forward 100\n",
    "    lt(ripley) #turn left\n",
    "\n",
    "print(ripley) #display\n",
    "wait_for_user()\n"
   ]
  },
  {
   "cell_type": "code",
   "execution_count": 4,
   "metadata": {
    "collapsed": true
   },
   "outputs": [],
   "source": [
    "def polygon(t,length,sides):\n",
    "    '''Draws a polygon with sides = sides. T is a turtle. Size is\n",
    "        determined by the length of each side.\n",
    "    '''\n",
    "    for i in range(sides):\n",
    "        fd(t, length)\n",
    "        lt(t,(360/sides))"
   ]
  },
  {
   "cell_type": "code",
   "execution_count": 5,
   "metadata": {},
   "outputs": [
    {
     "name": "stdout",
     "output_type": "stream",
     "text": [
      "<TurtleWorld.Turtle object at 0x104c027b8>\n"
     ]
    }
   ],
   "source": [
    "world = TurtleWorld()\n",
    "ripley = Turtle()\n",
    "polygon(ripley,20,8)\n",
    "print(ripley)\n",
    "wait_for_user()"
   ]
  },
  {
   "cell_type": "code",
   "execution_count": 6,
   "metadata": {},
   "outputs": [],
   "source": [
    "def circle(t,r):\n",
    "    '''draws a circle with radius r. t is a turtle'''\n",
    "    circum = 3.14*(r**2)\n",
    "    polygon(t,(r/360),360)"
   ]
  },
  {
   "cell_type": "code",
   "execution_count": null,
   "metadata": {},
   "outputs": [],
   "source": []
  },
  {
   "cell_type": "code",
   "execution_count": 7,
   "metadata": {},
   "outputs": [
    {
     "name": "stdout",
     "output_type": "stream",
     "text": [
      "<TurtleWorld.Turtle object at 0x104c0a240>\n"
     ]
    }
   ],
   "source": [
    "world = TurtleWorld()\n",
    "ripley = Turtle()\n",
    "ripley.delay = 0.01\n",
    "circle(ripley,500)\n",
    "print(ripley)\n",
    "wait_for_user()"
   ]
  },
  {
   "cell_type": "code",
   "execution_count": 8,
   "metadata": {
    "collapsed": true
   },
   "outputs": [],
   "source": [
    "def arc(t,r,angle):\n",
    "    '''draws a portion of a circle with radius r. t is a turtle\n",
    "        the extent of the circle drawn is indicated by angle. Angle should be provided in degrees\n",
    "        from 0 to 360\n",
    "    '''\n",
    "    circum = 3.14*(r**2)\n",
    "    \n",
    "    polygon(t,(r/360),angle/360)"
   ]
  },
  {
   "cell_type": "code",
   "execution_count": 9,
   "metadata": {
    "collapsed": true
   },
   "outputs": [],
   "source": [
    "def arc(t, r, angle):\n",
    "    arc_length = 2 * math.pi * r * angle / 360\n",
    "    n = int(arc_length /3) +1\n",
    "    step_length = arc_length/n\n",
    "    step_angle = float(angle)/n\n",
    "    \n",
    "    for i in range(n):\n",
    "        fd(t,step_length)\n",
    "        lt(t,step_angle)"
   ]
  },
  {
   "cell_type": "code",
   "execution_count": 10,
   "metadata": {
    "collapsed": true
   },
   "outputs": [],
   "source": [
    "def polyline(t,n,length,angle):\n",
    "    for i in range(n):\n",
    "        fd(t,length)\n",
    "        lt(t,angle)"
   ]
  },
  {
   "cell_type": "code",
   "execution_count": 11,
   "metadata": {
    "collapsed": true
   },
   "outputs": [],
   "source": [
    "def polygon(t,n,length):\n",
    "    angle=360.0/n\n",
    "    polyline(t,n,length,angle)\n",
    "def arc(t,r,angle):\n",
    "    arc_length=2*math.pi*r*angle/360\n",
    "    n=int(arc_length/3)+1\n",
    "    step_length=arc_length/n\n",
    "    step_angle=float(angle)/n\n",
    "    polyline(t,n,step_length,step_angle)\n",
    "    "
   ]
  },
  {
   "cell_type": "code",
   "execution_count": 12,
   "metadata": {
    "collapsed": true
   },
   "outputs": [],
   "source": [
    "def circle(t,r):\n",
    "    arc(t,r,360)"
   ]
  },
  {
   "cell_type": "code",
   "execution_count": 13,
   "metadata": {},
   "outputs": [
    {
     "name": "stdout",
     "output_type": "stream",
     "text": [
      "<TurtleWorld.Turtle object at 0x104beaeb8>\n"
     ]
    }
   ],
   "source": [
    "world = TurtleWorld()\n",
    "ripley = Turtle()\n",
    "ripley.delay = 0.01\n",
    "circle(ripley,50)\n",
    "print(ripley)\n",
    "wait_for_user()"
   ]
  },
  {
   "cell_type": "code",
   "execution_count": 14,
   "metadata": {
    "collapsed": true
   },
   "outputs": [],
   "source": [
    "#Exercise 4.2 \n",
    "#draw flowers\n",
    "def flower(t,r,petals):\n",
    "    for i in range(petals):\n",
    "        circle(t,r)\n",
    "        lt(t,(360.0/petals))"
   ]
  },
  {
   "cell_type": "code",
   "execution_count": 15,
   "metadata": {},
   "outputs": [
    {
     "name": "stdout",
     "output_type": "stream",
     "text": [
      "<TurtleWorld.Turtle object at 0x104c02a90>\n"
     ]
    }
   ],
   "source": [
    "\n",
    "world = TurtleWorld()\n",
    "ripley = Turtle()\n",
    "ripley.delay = 0.001\n",
    "flower(ripley,40,3)\n",
    "print(ripley)\n",
    "wait_for_user()"
   ]
  },
  {
   "cell_type": "code",
   "execution_count": 18,
   "metadata": {
    "collapsed": true
   },
   "outputs": [],
   "source": [
    "\n",
    "def draw_spiral(t, n, length=3, a=0.1, b=0.0002):\n",
    "    \"\"\"Draws an Archimedian spiral starting at the origin.\n",
    "\n",
    "    Args:\n",
    "      n: how many line segments to draw\n",
    "      length: how long each segment is\n",
    "      a: how loose the initial spiral starts out (larger is looser)\n",
    "      b: how loosly coiled the spiral is (larger is looser)\n",
    "\n",
    "    http://en.wikipedia.org/wiki/Spiral\n",
    "    \"\"\"\n",
    "    theta = 0.0\n",
    "\n",
    "    for i in range(n):\n",
    "        fd(t, length)\n",
    "        dtheta = 1 / (a + b * theta)\n",
    "\n",
    "        lt(t, dtheta)\n",
    "        theta += dtheta\n"
   ]
  },
  {
   "cell_type": "code",
   "execution_count": null,
   "metadata": {},
   "outputs": [],
   "source": [
    "world = TurtleWorld()\n",
    "ripley = Turtle()\n",
    "ripley.delay = 0.001\n",
    "draw_spiral(ripley,300,3,0.1,0.0002)\n",
    "print(ripley)\n",
    "wait_for_user()"
   ]
  },
  {
   "cell_type": "code",
   "execution_count": null,
   "metadata": {
    "collapsed": true
   },
   "outputs": [],
   "source": []
  },
  {
   "cell_type": "code",
   "execution_count": null,
   "metadata": {
    "collapsed": true
   },
   "outputs": [],
   "source": []
  }
 ],
 "metadata": {
  "kernelspec": {
   "display_name": "Python 3",
   "language": "python",
   "name": "python3"
  },
  "language_info": {
   "codemirror_mode": {
    "name": "ipython",
    "version": 3
   },
   "file_extension": ".py",
   "mimetype": "text/x-python",
   "name": "python",
   "nbconvert_exporter": "python",
   "pygments_lexer": "ipython3",
   "version": "3.5.0"
  }
 },
 "nbformat": 4,
 "nbformat_minor": 2
}
