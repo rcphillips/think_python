{
 "cells": [
  {
   "cell_type": "markdown",
   "metadata": {},
   "source": [
    "# Chapter 5 - Conditionals and Recursion - 170823"
   ]
  },
  {
   "cell_type": "code",
   "execution_count": 1,
   "metadata": {
    "collapsed": true
   },
   "outputs": [],
   "source": [
    "#an example of recursion:\n",
    "\n",
    "def print_n(s,n):\n",
    "    if n<=0:\n",
    "        return\n",
    "    print(s)\n",
    "    print_n(s,n-1) #so this kinda functions like a downward counter."
   ]
  },
  {
   "cell_type": "code",
   "execution_count": 2,
   "metadata": {},
   "outputs": [
    {
     "name": "stdout",
     "output_type": "stream",
     "text": [
      "3\n",
      "3\n",
      "3\n",
      "3\n"
     ]
    }
   ],
   "source": [
    "print_n(3,4)"
   ]
  },
  {
   "cell_type": "code",
   "execution_count": 3,
   "metadata": {
    "collapsed": true
   },
   "outputs": [],
   "source": [
    "#Ex 5.2\n",
    "\n",
    "def do_n(func,n):\n",
    "    if n<=0:\n",
    "        return\n",
    "    func(n)\n",
    "    do_n(func,n-1)\n"
   ]
  },
  {
   "cell_type": "code",
   "execution_count": 4,
   "metadata": {},
   "outputs": [
    {
     "name": "stdout",
     "output_type": "stream",
     "text": [
      "who?\n",
      "a\n",
      "a\n"
     ]
    }
   ],
   "source": [
    "text = input('who?\\n')\n",
    "print(text)"
   ]
  },
  {
   "cell_type": "code",
   "execution_count": 5,
   "metadata": {
    "collapsed": true
   },
   "outputs": [],
   "source": [
    "def check_fermat(a,b,c,n):\n",
    "    if (n > 2) and (a**n + b**n == c**n):\n",
    "        print('Bad Fermat!')\n",
    "    else:\n",
    "        print('Nope')\n",
    "        print(a**n)\n",
    "        print(b**n)\n",
    "        print(a**n+b**n)\n",
    "        print(c**n)"
   ]
  },
  {
   "cell_type": "code",
   "execution_count": 6,
   "metadata": {
    "collapsed": true
   },
   "outputs": [],
   "source": [
    "def fermat_tester():\n",
    "    a = input('what is a? \\n')\n",
    "    a = int(a)\n",
    "    b = input('what is b? \\n')\n",
    "    b = int(b)\n",
    "    c = input('what is c? \\n')\n",
    "    c = int(c)\n",
    "    n = input('what is n? \\n')\n",
    "    n = int(n)\n",
    "    check_fermat(a,b,c,n)"
   ]
  },
  {
   "cell_type": "code",
   "execution_count": 7,
   "metadata": {},
   "outputs": [
    {
     "name": "stdout",
     "output_type": "stream",
     "text": [
      "what is a? \n",
      "3\n",
      "what is b? \n",
      "5\n",
      "what is c? \n",
      "1\n",
      "what is n? \n",
      "1\n",
      "Nope\n",
      "3\n",
      "5\n",
      "8\n",
      "1\n"
     ]
    }
   ],
   "source": [
    "fermat_tester()"
   ]
  },
  {
   "cell_type": "code",
   "execution_count": 8,
   "metadata": {
    "collapsed": true
   },
   "outputs": [],
   "source": [
    "#5.4 \n",
    "# - if a > b+c or\n",
    "#      b > a+c or\n",
    "#      c > a+b\n",
    "# then you can't make a triangle."
   ]
  },
  {
   "cell_type": "code",
   "execution_count": 9,
   "metadata": {
    "collapsed": true
   },
   "outputs": [],
   "source": [
    "def is_triangle(a,b,c):\n",
    "    a=int(a)\n",
    "    b=int(b)\n",
    "    c=int(c)\n",
    "    ab = a+b\n",
    "    ac = a+c\n",
    "    bc = b+c\n",
    "    if (a>bc) or (b>ac) or (c>ab):\n",
    "        print(\"No\")\n",
    "    else:\n",
    "        print(\"Yes!\"\n",
    "             )"
   ]
  },
  {
   "cell_type": "code",
   "execution_count": 10,
   "metadata": {},
   "outputs": [
    {
     "name": "stdout",
     "output_type": "stream",
     "text": [
      "Yes!\n"
     ]
    }
   ],
   "source": [
    "is_triangle(9,4,5)"
   ]
  },
  {
   "cell_type": "code",
   "execution_count": 11,
   "metadata": {
    "collapsed": true
   },
   "outputs": [],
   "source": [
    "import tkinter\n",
    "import sys\n",
    "sys.path.append('/Users/rcphillips/Documents/swampy-2.1.5/')\n",
    "from TurtleWorld import *\n",
    "import math"
   ]
  },
  {
   "cell_type": "code",
   "execution_count": 12,
   "metadata": {
    "collapsed": true
   },
   "outputs": [],
   "source": [
    "#5.5 What does this do?\n",
    "\n",
    "def draw(t, length, n):\n",
    "    if n == 0: #probably how many times is somethign done\n",
    "        return\n",
    "    angle = 50 #and the angle between each draw length, which is apparently constant\n",
    "    fd(t, length*n)\n",
    "    lt(t, angle)\n",
    "    draw(t, length, n-1) #okay so this is interesting, it's going to be repeated., but it's counting down...\n",
    "    rt(t,2*angle)\n",
    "    draw(t, length, n-1)\n",
    "    lt(t, angle)\n",
    "    bk(t,length*n)"
   ]
  },
  {
   "cell_type": "code",
   "execution_count": 13,
   "metadata": {},
   "outputs": [],
   "source": [
    "world = TurtleWorld()\n",
    "t=Turtle()\n",
    "#draw(t, 3, 4)"
   ]
  },
  {
   "cell_type": "code",
   "execution_count": null,
   "metadata": {
    "collapsed": true
   },
   "outputs": [],
   "source": [
    "def koch(t, length, n):\n",
    "    if n==0:\n",
    "        return\n",
    "    angle = 60\n",
    "    draw(t,((length/3),n)"
   ]
  }
 ],
 "metadata": {
  "kernelspec": {
   "display_name": "Python 3",
   "language": "python",
   "name": "python3"
  },
  "language_info": {
   "codemirror_mode": {
    "name": "ipython",
    "version": 3
   },
   "file_extension": ".py",
   "mimetype": "text/x-python",
   "name": "python",
   "nbconvert_exporter": "python",
   "pygments_lexer": "ipython3",
   "version": "3.5.0"
  }
 },
 "nbformat": 4,
 "nbformat_minor": 2
}
