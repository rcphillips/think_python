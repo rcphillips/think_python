{
 "cells": [
  {
   "cell_type": "code",
   "execution_count": 1,
   "metadata": {
    "collapsed": true
   },
   "outputs": [],
   "source": [
    "import tkinter\n",
    "import sys\n",
    "sys.path.append('/Users/rcphillips/Documents/swampy-2.1.5/')\n",
    "from TurtleWorld import *"
   ]
  },
  {
   "cell_type": "code",
   "execution_count": 2,
   "metadata": {},
   "outputs": [
    {
     "name": "stdout",
     "output_type": "stream",
     "text": [
      "<TurtleWorld.Turtle object at 0x103221588>\n"
     ]
    }
   ],
   "source": [
    "world = TurtleWorld()\n",
    "ripley = Turtle() #define instance of Turtle() named Ripley ^^\n",
    "fd(ripley,100) #move forward 100\n",
    "lt(ripley) #turn left\n",
    "fd(ripley,100) #move forward 100\n",
    "lt(ripley) #turn left\n",
    "fd(ripley,100) #move forward 100\n",
    "print(ripley) #display\n",
    "wait_for_user()"
   ]
  },
  {
   "cell_type": "code",
   "execution_count": 3,
   "metadata": {},
   "outputs": [
    {
     "name": "stdout",
     "output_type": "stream",
     "text": [
      "<TurtleWorld.Turtle object at 0x103221400>\n"
     ]
    }
   ],
   "source": [
    "world = TurtleWorld()\n",
    "ripley = Turtle() #define instance of Turtle() named Ripley ^^\n",
    "for i in range(4):\n",
    "    fd(ripley, 100) #move forward 100\n",
    "    lt(ripley) #turn left\n",
    "\n",
    "print(ripley) #display\n",
    "wait_for_user()\n"
   ]
  },
  {
   "cell_type": "code",
   "execution_count": 4,
   "metadata": {
    "collapsed": true
   },
   "outputs": [],
   "source": [
    "def square(t):\n",
    "    world = TurtleWorld()\n",
    "    for i in range(4):\n",
    "        fd(t, 100)\n",
    "        lt(t)\n",
    "    print(t)\n",
    "    wait_for_user()"
   ]
  },
  {
   "cell_type": "code",
   "execution_count": null,
   "metadata": {},
   "outputs": [],
   "source": []
  },
  {
   "cell_type": "code",
   "execution_count": 15,
   "metadata": {},
   "outputs": [
    {
     "name": "stdout",
     "output_type": "stream",
     "text": [
      "<TurtleWorld.Turtle object at 0x10cd9a400>\n"
     ]
    }
   ],
   "source": []
  },
  {
   "cell_type": "code",
   "execution_count": null,
   "metadata": {
    "collapsed": true
   },
   "outputs": [],
   "source": []
  }
 ],
 "metadata": {
  "kernelspec": {
   "display_name": "Python 3",
   "language": "python",
   "name": "python3"
  },
  "language_info": {
   "codemirror_mode": {
    "name": "ipython",
    "version": 3
   },
   "file_extension": ".py",
   "mimetype": "text/x-python",
   "name": "python",
   "nbconvert_exporter": "python",
   "pygments_lexer": "ipython3",
   "version": "3.5.0"
  }
 },
 "nbformat": 4,
 "nbformat_minor": 2
}
